{
  "nbformat": 4,
  "nbformat_minor": 0,
  "metadata": {
    "colab": {
      "provenance": [],
      "toc_visible": true,
      "include_colab_link": true
    },
    "kernelspec": {
      "name": "python3",
      "display_name": "Python 3"
    }
  },
  "cells": [
    {
      "cell_type": "markdown",
      "metadata": {
        "id": "view-in-github",
        "colab_type": "text"
      },
      "source": [
        "<a href=\"https://colab.research.google.com/github/Santipevez/Fundamentos-de-optimizacion-lineal/blob/main/taller_05_problema_de_la_mezcla_cvxpy.ipynb\" target=\"_parent\"><img src=\"https://colab.research.google.com/assets/colab-badge.svg\" alt=\"Open In Colab\"/></a>"
      ]
    },
    {
      "cell_type": "markdown",
      "source": [
        "## «*Pesimista es aquel que cuando puede escoger entre dos males, elige ambos*».\n",
        "### [Oscar Wilde](https://es.wikipedia.org/wiki/Oscar_Wilde)"
      ],
      "metadata": {
        "id": "cr-wZpWhC2dt"
      }
    },
    {
      "metadata": {
        "id": "tpFFfpLa7D_R"
      },
      "cell_type": "markdown",
      "source": [
        "# Taller 05 problema de la mezcla\n",
        "\n",
        "En este taller aprenderá los conceptos básicos del problema de la mezcla."
      ]
    },
    {
      "cell_type": "markdown",
      "source": [
        "## Características generales del problema de la mezcla\n",
        "\n",
        "**Objetivo**\n",
        "El problema de la mezcla busca determinar la combinación óptima de ingredientes o componentes para:\n",
        "\n",
        "* Maximizar una medida de beneficio (ej. ingresos, utilidad).\n",
        "\n",
        "* Minimizar un costo (ej.  gastos de producción).\n",
        "\n",
        "**Restricciones**\n",
        "Establecen las condiciones que deben cumplirse, como:\n",
        "\n",
        "* Proporciones: Requisitos mínimos o máximos de cada componente en la mezcla.\n",
        "\n",
        "* Disponibilidad: Límites en las cantidades de los ingredientes debido a restricciones de inventario.\n",
        "\n",
        "* Calidad: Criterios mínimos o máximos relacionados con características del producto final (ej. porcentaje de un nutriente, contenido energético).\n"
      ],
      "metadata": {
        "id": "Q1cx54I9GtOj"
      }
    },
    {
      "metadata": {
        "id": "Qqb6pVqSpExP"
      },
      "cell_type": "markdown",
      "source": [
        "## Tipos de variables en CVXPY\n",
        "\n",
        "CVXPY permite crear variables, parámetros escalares y arreglos (vectores y matrices); para tal efecto sigue la sintaxis (formatos) de la librería [NumPy](https://docs.scipy.org/doc/numpy/index.html).\n"
      ]
    },
    {
      "metadata": {
        "id": "jFPNMR1rpR-c"
      },
      "cell_type": "code",
      "source": [
        "# Importar la librería que se va a utilizar\n",
        "import cvxpy as cvx\n",
        "\n",
        "# Crear una variable de tipo escalar\n",
        "var_esc = cvx.Variable()\n",
        "\n",
        "# Crear una variable escalar con restricción de no negatividad\n",
        "var_esc_no_neg = cvx.Variable(nonneg = True)\n",
        "\n",
        "# Crear una variable escalar entera\n",
        "var_esc_ent = cvx.Variable(integer=True)\n",
        "\n",
        "# Crear una variable booleana\n",
        "var_bool = cvx.Variable(boolean=True)\n",
        "\n",
        "# Crear un parámetro con un valor específico\n",
        "b = 8\n",
        "\n",
        "# Crear una variable como un arreglo (3,1). Contiene 3 filas y una columna\n",
        "c = cvx.Variable((3,1))\n",
        "\n",
        "# Crear una parámetro como un  arreglo  con valores específicos\n",
        "d = [3, 2, 4]\n",
        "\n",
        "# Crear un parámetro como un arreglo con valores específicos\n",
        "f = [[5, 6, 7],[2, 6, 9],[3, 8, 5],[9, 5,1 ]]"
      ],
      "execution_count": null,
      "outputs": []
    },
    {
      "cell_type": "markdown",
      "source": [
        "## Ejemplo 00: Concentrado para perros\n",
        "\n",
        "Una empresa dedicada a la producción de alimentos para mascotas desea formular un nuevo tipo de concentrado para perros adultos, optimizando los costos y cumpliendo con estándares nutricionales establecidos.\n",
        "\n",
        "Los ingredientes disponibles son harina de arroz, harina de pollo, salvado de trigo y grasa animal, con precios por kilogramo de 2,200, 4,000, 1,800 y 3,000 pesos colombianos, respectivamente.\n",
        "\n",
        "El concentrado debe contener al menos un 20% de proteína, un mínimo de 3,000 kcal/kg de energía metabolizable y un máximo de 10% de fibra. Las concentraciones de proteína de los ingredientes son 8% en la harina de arroz, 60% en la harina de pollo, 15% en el salvado de trigo y 0% en la grasa animal. En términos de energía, los ingredientes aportan 3,500 kcal/kg para la harina de arroz, 3,200 kcal/kg para la harina de pollo, 1,800 kcal/kg para el salvado de trigo y 8,000 kcal/kg para la grasa animal. En cuanto a la fibra, los niveles son 3% para la harina de arroz, 2% para la harina de pollo, 25% para el salvado de trigo y 0% para la grasa animal. La proporción de grasa animal debe estar entre el 5% y el 15% del peso total de la mezcla. Además, el concentrado debe tener un peso total de 1,000 kg.\n",
        "\n",
        "El objetivo es determinar la cantidad de cada ingrediente que minimice el costo total cumpliendo con todos los requisitos establecidos."
      ],
      "metadata": {
        "id": "LdmJshTLGPlm"
      }
    },
    {
      "cell_type": "markdown",
      "source": [
        "### Modelo matemático\n",
        "\n",
        "Variables de decisión:  \n",
        "q_arroz: Cantidad de harina de arroz (kg).  \n",
        "q_pollo: Cantidad de harina de pollo (kg).  \n",
        "q_salvado: Cantidad de salvado de trigo (kg).  \n",
        "q_grasa: Cantidad de grasa animal (kg).  \n",
        "\n",
        "Función objetivo:  \n",
        "Minimizar Z = 2200q_arroz + 4000q_pollo + 1800q_salvado + 3000q_grasa  \n",
        "\n",
        "Restricciones:  \n",
        "\n",
        "1. Proteína mínima: El concentrado debe contener al menos un 20% de proteína:  \n",
        "0.08q_arroz + 0.60q_pollo + 0.15q_salvado + 0.00q_grasa >= 0.20 * 1000  \n",
        "\n",
        "2. Energía mínima: El alimento debe proporcionar al menos 3,000 kcal/kg:  \n",
        "3500q_arroz + 3200q_pollo + 1800q_salvado + 8000q_grasa >= 3000 * 1000  \n",
        "\n",
        "3. Fibra máxima: El concentrado debe contener como máximo un 10% de fibra:  \n",
        "0.03q_arroz + 0.02q_pollo + 0.25q_salvado + 0.00q_grasa <= 0.10 * 1000  \n",
        "\n",
        "4. Proporción de grasa animal: La grasa animal debe representar entre el 5% y el 15% del peso total:  \n",
        "0.05 * 1000 <= q_grasa <= 0.15 * 1000  \n",
        "\n",
        "5. Peso total: La suma de los ingredientes debe ser igual a 1,000 kg:  \n",
        "q_arroz + q_pollo + q_salvado + q_grasa = 1000  \n",
        "\n",
        "6. No negatividad:  \n",
        "q_arroz, q_pollo, q_salvado, q_grasa >= 0  "
      ],
      "metadata": {
        "id": "YJBCiFPIuC5p"
      }
    },
    {
      "cell_type": "code",
      "source": [
        "# Importar la librería que se va a utilizar\n",
        "import cvxpy as cvx\n",
        "\n",
        "# Crear las variables de decisión y establecer restricciones de no negatividad\n",
        "q_arroz = cvx.Variable(nonneg=True)\n",
        "q_pollo = cvx.Variable(nonneg=True)\n",
        "q_salvado = cvx.Variable(nonneg=True)\n",
        "q_grasa = cvx.Variable(nonneg=True)\n",
        "\n",
        "# Definir la función objetivo\n",
        "obj = cvx.Minimize(2200*q_arroz + 4000*q_pollo + 1800*q_salvado + 3000*q_grasa)\n",
        "\n",
        "# Establecer las restricciones\n",
        "restricciones = [\n",
        "    # Restricción 1: Proteína mínima\n",
        "    0.08*q_arroz + 0.60*q_pollo + 0.15*q_salvado + 0.00*q_grasa >= 0.20 * 1000,\n",
        "\n",
        "    # Restricción 2: Energía mínima\n",
        "    3500*q_arroz + 3200*q_pollo + 1800*q_salvado + 8000*q_grasa >= 3000 * 1000,\n",
        "\n",
        "    # Restricción 3: Fibra máxima\n",
        "    0.03*q_arroz + 0.02*q_pollo + 0.25*q_salvado + 0.00*q_grasa <= 0.10 * 1000,\n",
        "\n",
        "    # Restricción 4: Proporción de grasa animal\n",
        "    # Grasa mínima\n",
        "    q_grasa >= 0.05 * 1000,\n",
        "\n",
        "   # Grasa máxima\n",
        "    q_grasa  <= 0.15 * 1000 ,\n",
        "\n",
        "    # Restricción 5: Peso total\n",
        "    q_arroz + q_pollo + q_salvado + q_grasa == 1000\n",
        "]\n",
        "\n",
        "# Configurar el problema\n",
        "problema = cvx.Problem(obj, restricciones)\n",
        "\n",
        "# Resolver el problema\n",
        "problema.solve()\n",
        "\n",
        "# Mostrar el estado de la solución\n",
        "print(\"Estado de la solución:\", problema.status, \"\\n\")\n",
        "# Importar la librería que se va a utilizar\n",
        "import cvxpy as cvx\n",
        "\n",
        "# Crear las variables de decisión y establecer restricciones de no negatividad\n",
        "q_arroz = cvx.Variable(nonneg=True)\n",
        "q_pollo = cvx.Variable(nonneg=True)\n",
        "q_salvado = cvx.Variable(nonneg=True)\n",
        "q_grasa = cvx.Variable(nonneg=True)\n",
        "\n",
        "# Definir la función objetivo\n",
        "obj = cvx.Minimize(2200*q_arroz + 4000*q_pollo + 1800*q_salvado + 3000*q_grasa)\n",
        "\n",
        "# Establecer las restricciones\n",
        "restricciones = [\n",
        "    # Restricción 1: Proteína mínima\n",
        "    0.08*q_arroz + 0.60*q_pollo + 0.15*q_salvado + 0.00*q_grasa >= 0.20 * 1000,\n",
        "\n",
        "    # Restricción 2: Energía mínima\n",
        "    3500*q_arroz + 3200*q_pollo + 1800*q_salvado + 8000*q_grasa >= 3000 * 1000,\n",
        "\n",
        "    # Restricción 3: Fibra máxima\n",
        "    0.03*q_arroz + 0.02*q_pollo + 0.25*q_salvado + 0.00*q_grasa <= 0.10 * 1000,\n",
        "\n",
        "    # Restricción 4: Proporción de grasa animal\n",
        "    # Grasa mínima\n",
        "    q_grasa >= 0.05 * 1000,\n",
        "\n",
        "   # Grasa máxima\n",
        "    q_grasa  <= 0.15 * 1000 ,\n",
        "\n",
        "    # Restricción 5: Peso total\n",
        "    q_arroz + q_pollo + q_salvado + q_grasa == 1000\n",
        "]\n",
        "\n",
        "# Configurar el problema\n",
        "problema = cvx.Problem(obj, restricciones)\n",
        "\n",
        "# Resolver el problema\n",
        "problema.solve()\n",
        "\n",
        "# Mostrar el estado de la solución\n",
        "print(\"Estado de la solución:\", problema.status, \"\\n\")\n",
        "\n",
        "# Mostrar el valor óptimo de la función objetivo\n",
        "print(\"Valor óptimo de la función objetivo:\", \"%.4f\"% problema.value, \"\\n\")\n",
        "\n",
        "# Mostrar los valores óptimos de las variables de decisión\n",
        "print(\"Valor óptimo de q_arroz:\", \"%.4f\"% q_arroz.value, \"kg\\n\")\n",
        "print(\"Valor óptimo de q_pollo:\", \"%.4f\"% q_pollo.value, \"kg\\n\")\n",
        "print(\"Valor óptimo de q_salvado:\", \"%.4f\"% q_salvado.value, \"kg\\n\")\n",
        "print(\"Valor óptimo de q_grasa:\", \"%.4f\"% q_grasa.value, \"kg\\n\")"
      ],
      "metadata": {
        "id": "3faUmo_3vtG-"
      },
      "execution_count": null,
      "outputs": []
    },
    {
      "cell_type": "markdown",
      "source": [
        "## Ejemplo 01: pintura para exteriores\n",
        "\n",
        "Una empresa de productos químicos desea formular una pintura para exteriores que sea resistente a la intemperie y cumpla con especificaciones técnicas específicas.\n",
        "\n",
        "Los componentes disponibles son resina acrílica, pigmento blanco, solvente y aditivo antimoho, con precios por kilogramo de 12,000, 5,000, 8,000 y 20,000 pesos colombianos, respectivamente.\n",
        "\n",
        "La pintura debe contener al menos un 40% de resina acrílica para garantizar la durabilidad. Además, debe incluir un mínimo de 20% de pigmento blanco para lograr la opacidad deseada y un máximo de 10% de solvente para controlar la viscosidad. Por su parte, el aditivo antimoho debe representar entre el 2% y el 5% del peso total de la mezcla. La cantidad total de pintura a producir es de 500 kg.\n",
        "\n",
        "El objetivo de la empresa es determinar la cantidad de cada componente que minimice el costo total, asegurando que la mezcla cumpla con los requisitos establecidos."
      ],
      "metadata": {
        "id": "-jgP9xx3Iu1_"
      }
    },
    {
      "cell_type": "markdown",
      "source": [
        "### Modelo matemático\n",
        "\n",
        "Variables de decisión:  \n",
        "q_resina: Cantidad de resina acrílica (kg).  \n",
        "q_pigmento: Cantidad de pigmento blanco (kg).  \n",
        "q_solvente: Cantidad de solvente (kg).  \n",
        "q_aditivo: Cantidad de aditivo antimoho (kg).  \n",
        "\n",
        "Función objetivo:  \n",
        "Minimizar Z = 12000q_resina + 5000q_pigmento + 8000q_solvente + 20000q_aditivo  \n",
        "\n",
        "Restricciones:  \n",
        "\n",
        "Contenido mínimo de resina acrílica: La pintura debe contener al menos un 40% de resina acrílica.  \n",
        "\n",
        "0.40 * 500 <= q_resina  \n",
        "\n",
        "Contenido mínimo de pigmento blanco: La pintura debe contener al menos un 20% de pigmento blanco.  \n",
        "\n",
        "0.20 * 500 <= q_pigmento  \n",
        "\n",
        "Contenido máximo de solvente: La pintura debe contener como máximo un 10% de solvente.  \n",
        "\n",
        "q_solvente <= 0.10 * 500  \n",
        "\n",
        "Proporción de aditivo antimoho: El aditivo antimoho debe representar entre el 2% y el 5% del peso total de la mezcla.  \n",
        "\n",
        "0.02 * 500 <= q_aditivo <= 0.05 * 500  \n",
        "\n",
        "Peso total: La suma de los componentes debe ser igual a 500 kg.  \n",
        "\n",
        "q_resina + q_pigmento + q_solvente + q_aditivo = 500  \n",
        "\n",
        "No negatividad:  \n",
        "\n",
        "q_resina, q_pigmento, q_solvente, q_aditivo >= 0"
      ],
      "metadata": {
        "id": "YtnWZw6SPlAD"
      }
    },
    {
      "cell_type": "code",
      "source": [
        "# Importar la librería que se va a utilizar\n",
        "import cvxpy as cvx\n",
        "\n",
        "# Crear las variables de decisión y establecer restricciones de no negatividad\n",
        "q_resina = cvx.Variable(nonneg=True)\n",
        "q_pigmento = cvx.Variable(nonneg=True)\n",
        "q_solvente = cvx.Variable(nonneg=True)\n",
        "q_aditivo = cvx.Variable(nonneg=True)\n",
        "\n",
        "# Definir la función objetivo\n",
        "obj_pintura = cvx.Minimize(12000*q_resina + 5000*q_pigmento + 8000*q_solvente + 20000*q_aditivo)\n",
        "\n",
        "# Establecer las restricciones\n",
        "restricciones_pintura = [\n",
        "    # Restricción 1: Contenido mínimo de resina acrílica\n",
        "    q_resina >= 0.40 * 500,\n",
        "\n",
        "    # Restricción 2: Contenido mínimo de pigmento blanco\n",
        "    q_pigmento >= 0.20 * 500,\n",
        "\n",
        "    # Restricción 3: Contenido máximo de solvente\n",
        "    q_solvente <= 0.10 * 500,\n",
        "\n",
        "    # Restricción 4: Proporción de aditivo antimoho\n",
        "    # Aditivo mínimo\n",
        "    q_aditivo >= 0.02 * 500,\n",
        "\n",
        "    # Aditivo máximo\n",
        "    q_aditivo <= 0.05 * 500,\n",
        "\n",
        "    # Restricción 5: Peso total\n",
        "    q_resina + q_pigmento + q_solvente + q_aditivo == 500\n",
        "]\n",
        "\n",
        "# Configurar el problema\n",
        "problema_pintura = cvx.Problem(obj_pintura, restricciones_pintura)\n",
        "\n",
        "# Resolver el problema\n",
        "problema_pintura.solve()\n",
        "\n",
        "# Mostrar el estado de la solución\n",
        "print(\"Estado de la solución:\", problema_pintura.status, \"\\n\")\n",
        "\n",
        "# Mostrar el valor óptimo de la función objetivo\n",
        "print(\"Valor óptimo de la función objetivo:\", \"%.4f\" % problema_pintura.value, \"COP\\n\")\n",
        "\n",
        "# Mostrar los valores óptimos de las variables de decisión\n",
        "print(\"Valor óptimo de q_resina:\", \"%.4f\" % q_resina.value, \"kg\\n\")\n",
        "print(\"Valor óptimo de q_pigmento:\", \"%.4f\" % q_pigmento.value, \"kg\\n\")\n",
        "print(\"Valor óptimo de q_solvente:\", \"%.4f\" % q_solvente.value, \"kg\\n\")\n",
        "print(\"Valor óptimo de q_aditivo:\", \"%.4f\" % q_aditivo.value, \"kg\\n\")"
      ],
      "metadata": {
        "id": "tQTd7M4oQs8b"
      },
      "execution_count": null,
      "outputs": []
    },
    {
      "cell_type": "markdown",
      "source": [
        "# Ejercicios\n",
        "\n",
        "Resolver los siguientes ejercicios con CVXPY."
      ],
      "metadata": {
        "id": "6a9EgrtHYAcV"
      }
    },
    {
      "cell_type": "markdown",
      "source": [
        "## Ejercicio 00\n",
        "\n",
        "Una empresa de construcción desea fabricar un concreto especial para pisos industriales. Los materiales disponibles son cemento Portland, arena, grava y agua, con precios por tonelada de 250,000, 50,000, 80,000 y 10,000 pesos colombianos, respectivamente.\n",
        "\n",
        "El concreto debe cumplir con los siguientes requisitos técnicos:\n",
        "\n",
        "* Al menos el 50% de la mezcla debe estar compuesto por grava, para garantizar la resistencia.\n",
        "* La cantidad de arena no puede superar el 25% del peso total, para mantener la cohesión del concreto.\n",
        "* El agua debe representar entre el 5% y el 10% de la mezcla, para evitar grietas.\n",
        "* La mezcla debe incluir al menos un 20% de cemento Portland, para asegurar la dureza.\n",
        "* El peso total de la mezcla debe ser de 10 toneladas.\n",
        "\n",
        "El objetivo es determinar la cantidad de cada material que minimice el costo total, asegurando que el concreto cumpla con los estándares de calidad."
      ],
      "metadata": {
        "id": "4kpeP548VfWv"
      }
    },
    {
      "cell_type": "code",
      "source": [
        "# Resuelva en esta celda el ejercicio\n"
      ],
      "metadata": {
        "id": "n2v2uvLkZD0s"
      },
      "execution_count": null,
      "outputs": []
    },
    {
      "cell_type": "markdown",
      "source": [
        "## Ejercicio 01\n",
        "\n",
        "Una perfumería artesanal desea crear una nueva fragancia combinando cuatro esencias diferentes: jazmín, sándalo, vainilla y cítricos.\n",
        "\n",
        "Cada esencia tiene propiedades específicas que influyen en la calidad final del producto y tienen precios de 120,000, 180,000, 150,000 y 90,000 pesos colombianos por litro, respectivamente.\n",
        "\n",
        "La esencia de jazmín aporta intensidad y debe representar al menos una tercera parte de la mezcla. La esencia de sándalo aporta fijación, pero no puede superar una quinta parte de la mezcla para evitar saturar la fragancia. La esencia de vainilla es responsable del dulzor y debe estar presente en una proporción no menor al 20%. Por su parte, la esencia cítrica aporta frescura, pero su proporción debe estar entre el 15% y el 30% de la mezcla. Además, la fragancia debe cumplir con un balance general donde la proporción de fijación y dulzor juntas no exceda el 50% del total. Finalmente, el peso total de la fragancia debe ser de un litro exacto.\n",
        "\n",
        " El objetivo es minimizar el costo total de producción considerando los precios de cada esencia."
      ],
      "metadata": {
        "id": "AWpJFnkfZE8X"
      }
    },
    {
      "cell_type": "code",
      "source": [
        "# Resuelva en esta celda el ejercicio\n"
      ],
      "metadata": {
        "id": "nEHnjFNraLvf"
      },
      "execution_count": null,
      "outputs": []
    },
    {
      "cell_type": "markdown",
      "source": [
        "## Ejercicio 02\n",
        "\n",
        "Un agricultor desea preparar una mezcla de fertilizantes para sus cultivos combinando cuatro tipos: fertilizante orgánico, fertilizante químico, compost y estiércol.\n",
        "\n",
        "Cada tipo  de fertilizante tiene un precio por kilogramo de 500, 1,200, 300 y 200 pesos colombianos, respectivamente, y aporta distintos nutrientes esenciales.\n",
        "\n",
        "El fertilizante orgánico aporta nitrógeno y debe representar al menos el 25% de la mezcla para garantizar un crecimiento sostenible. El fertilizante químico es rico en fósforo, pero no puede superar el 30% del total para evitar contaminación del suelo. El compost aporta materia orgánica y debe estar presente en una proporción no menor al 20%. El estiércol contribuye con potasio y su proporción debe estar entre el 10% y el 20% para evitar sobrecargar los cultivos con sales. Además, la mezcla debe garantizar que la proporción conjunta de nitrógeno y fósforo no exceda el 60% del total. Finalmente, el peso total de la mezcla debe ser de una tonelada exacta.\n",
        "\n",
        "El objetivo es minimizar el costo total de la mezcla asegurando que cumpla con las necesidades nutricionales de los cultivos."
      ],
      "metadata": {
        "id": "0hEyKcvlaM1p"
      }
    },
    {
      "cell_type": "code",
      "source": [
        "# Resuelva en esta celda el ejercicio\n"
      ],
      "metadata": {
        "id": "yN0MvrQ4ao7v"
      },
      "execution_count": null,
      "outputs": []
    },
    {
      "cell_type": "markdown",
      "source": [
        "## Ejercicio 03\n",
        "\n",
        "Una compañía minera necesita crear una aleación metálica utilizando cuatro minerales: hierro, cobre, níquel y zinc.\n",
        "\n",
        "Cada mineral tiene un costo por tonelada de 300,000, 800,000, 1,200,000 y 600,000 pesos colombianos, respectivamente, y contribuye con propiedades específicas a la aleación.\n",
        "\n",
        "El hierro aporta resistencia y debe representar al menos el 40% de la mezcla. El cobre aporta conductividad eléctrica, pero no puede superar el 20% del total para mantener un equilibrio en el costo. El níquel mejora la durabilidad de la aleación y debe estar presente en una proporción no menor al 10%. El zinc mejora la resistencia a la corrosión y su proporción debe estar entre el 15% y el 25%. Además, la mezcla debe cumplir con la condición de que la proporción conjunta de hierro y níquel no sea inferior al 60% del total. Finalmente, el peso total de la aleación debe ser de cinco toneladas exactas.\n",
        "\n",
        "El objetivo es minimizar el costo total de la aleación asegurando que cumpla con los estándares de calidad requeridos para su uso en estructuras industriales."
      ],
      "metadata": {
        "id": "qj50yF_aP_yM"
      }
    },
    {
      "cell_type": "code",
      "source": [
        "# Resuelva en esta celda el ejercicio\n"
      ],
      "metadata": {
        "id": "YDbBS606QSxx"
      },
      "execution_count": null,
      "outputs": []
    },
    {
      "cell_type": "markdown",
      "source": [
        "## Ejercicio 04\n",
        "\n",
        "Un laboratorio farmacéutico está desarrollando una nueva solución intravenosa utilizando tres ingredientes activos: cloruro de sodio, glucosa y potasio.\n",
        "\n",
        "Cada ingrediente tiene un costo por litro de 5,000, 10,000 y 15,000 pesos colombianos, respectivamente.\n",
        "\n",
        "La solución debe cumplir con varios requisitos para garantizar la eficacia y seguridad del tratamiento. El cloruro de sodio, que regula el equilibrio de líquidos, debe representar al menos el 40% de la mezcla. La glucosa, que proporciona energía, debe estar presente en una proporción no menor al 20%. El potasio, que regula la función cardíaca, debe estar entre el 5% y el 10% del total. Además, la solución debe tener un equilibrio entre el cloruro de sodio y la glucosa de manera que su proporción combinada no supere el 70% del total. El volumen total de la solución debe ser de 1,000 mililitros exactos.\n",
        "\n",
        "El objetivo es minimizar el costo total de producción de la solución intravenosa, asegurando que cumpla con las concentraciones necesarias para el tratamiento."
      ],
      "metadata": {
        "id": "4852xGV9QBaQ"
      }
    },
    {
      "cell_type": "code",
      "source": [
        "# Resuelva en esta celda el ejercicio\n"
      ],
      "metadata": {
        "id": "xNrof7kmQUED"
      },
      "execution_count": null,
      "outputs": []
    },
    {
      "cell_type": "markdown",
      "source": [
        "## Ejercicio 05\n",
        "\n",
        "Una compañía aeronáutica está desarrollando un nuevo compuesto ligero para la construcción de fuselajes de aviones, combinando tres materiales: fibra de carbono, aluminio y titanio.\n",
        "\n",
        "El costo por kilogramo de fibra de carbono es de 150,000 pesos colombianos, el aluminio cuesta 25,000 pesos por kilogramo y el titanio tiene un costo de 90,000 pesos por kilogramo.\n",
        "\n",
        "El compuesto debe cumplir con varios requisitos técnicos para garantizar la resistencia, el peso y la durabilidad del fuselaje. La fibra de carbono, que aporta alta resistencia y ligereza, debe representar al menos el 60% de la mezcla. El aluminio, que mejora la conductividad térmica, no puede superar el 30% del total debido a su menor resistencia en comparación con la fibra de carbono y el titanio. El titanio, que mejora la durabilidad y la resistencia a la corrosión, debe estar presente en al menos el 10% de la mezcla. Además, la proporción combinada de fibra de carbono y titanio debe ser al menos el 75%, para garantizar la resistencia estructural del fuselaje. Finalmente, el peso total del compuesto debe ser de 500 kilogramos exactos.\n",
        "\n",
        "El objetivo es minimizar el costo total del compuesto, asegurando que cumpla con los estándares de calidad y resistencia requeridos para la construcción de aviones."
      ],
      "metadata": {
        "id": "ztj4sS1hQDtc"
      }
    },
    {
      "cell_type": "code",
      "source": [
        "# Resuelva en esta celda el ejercicio\n"
      ],
      "metadata": {
        "id": "jg0TczRIQVsk"
      },
      "execution_count": null,
      "outputs": []
    },
    {
      "cell_type": "markdown",
      "source": [
        "## Ejercicio 06\n",
        "\n",
        "Una planta de tratamiento de agua está diseñando una mezcla de productos químicos para purificar el agua potable, combinando tres productos: cloro, sulfato de aluminio y cal.\n",
        "\n",
        "El costo por kilogramo de cloro es de 2,000 pesos colombianos, el sulfato de aluminio tiene un costo de 4,000 pesos por kilogramo, y la cal cuesta 1,500 pesos por kilogramo.\n",
        "\n",
        "La mezcla debe cumplir con varios estándares de purificación para garantizar la calidad del agua. El cloro, que elimina microorganismos patógenos, debe representar al menos el 30% de la mezcla. El sulfato de aluminio, que se utiliza para la coagulación de impurezas, no puede superar el 40% del total, para evitar la sobrecarga del agua con compuestos inorgánicos. La cal, que ajusta el pH del agua, debe estar presente en al menos el 20% de la mezcla. Además, la mezcla debe tener una proporción de cloro y sulfato de aluminio combinados que no supere el 60% del total, para asegurar que no haya un exceso de productos químicos en el agua tratada. Finalmente, el peso total de la mezcla debe ser de 2,000 kilogramos exactos.\n",
        "\n",
        "El objetivo es minimizar el costo total de la mezcla, asegurando que cumpla con las normativas de purificación de agua potable."
      ],
      "metadata": {
        "id": "hATd-LMUQGP_"
      }
    },
    {
      "cell_type": "code",
      "source": [
        "# Resuelva en esta celda el ejercicio\n"
      ],
      "metadata": {
        "id": "KWFwRqE7QX0H"
      },
      "execution_count": null,
      "outputs": []
    },
    {
      "cell_type": "markdown",
      "source": [
        "## Ejercicio 07\n",
        "\n",
        "Una organización ambiental está diseñando una mezcla de materiales reciclables para crear un nuevo tipo de material de construcción sostenible.\n",
        "\n",
        "La mezcla está compuesta por tres materiales reciclados: plástico PET, vidrio y papel.\n",
        "\n",
        "El costo por kilogramo de plástico PET es de 3,000 pesos colombianos, el vidrio tiene un costo de 2,500 pesos por kilogramo y el papel cuesta 1,000 pesos por kilogramo.\n",
        "\n",
        "El material debe cumplir con requisitos de durabilidad y sostenibilidad. El plástico PET, que aporta resistencia y flexibilidad, debe representar al menos el 50% de la mezcla. El vidrio, que contribuye a la densidad y la resistencia al fuego, no puede superar el 30% del total. El papel, que mejora la aislación térmica y acústica, debe estar presente en al menos el 10% de la mezcla. Además, la mezcla debe asegurar que la proporción combinada de plástico PET y vidrio no sea inferior al 70%, para garantizar la estabilidad estructural del material de construcción. Finalmente, el peso total de la mezcla debe ser de 1,000 kilogramos exactos.\n",
        "\n",
        "El objetivo es minimizar el costo total de la mezcla, asegurando que cumpla con los estándares de sostenibilidad y desempeño requeridos para su uso en construcción."
      ],
      "metadata": {
        "id": "ZNOMGOKfQHkc"
      }
    },
    {
      "cell_type": "code",
      "source": [
        "# Resuelva en esta celda el ejercicio\n"
      ],
      "metadata": {
        "id": "EFyBSu0OQZ5X"
      },
      "execution_count": null,
      "outputs": []
    },
    {
      "cell_type": "markdown",
      "source": [
        "## Ejercicio 08\n",
        "\n",
        "Una empresa está fabricando una nueva línea de ropa deportiva utilizando tres tipos de fibras: algodón, poliéster y spandex.\n",
        "\n",
        "El costo por kilogramo de algodón es de 10,000 pesos colombianos, el poliéster cuesta 7,000 pesos por kilogramo, y el spandex tiene un costo de 15,000 pesos por kilogramo.\n",
        "\n",
        "La mezcla de estas fibras debe cumplir con ciertos requisitos técnicos de durabilidad, elasticidad y comodidad para los consumidores. El algodón, que aporta suavidad y transpirabilidad, debe representar al menos el 40% de la mezcla. El poliéster, que contribuye a la resistencia y al secado rápido, no puede superar el 50% del total. El spandex, que le da elasticidad y ajuste a la prenda, debe estar presente en al menos el 5% de la mezcla. Además, la mezcla debe tener una proporción combinada de algodón y poliéster que sea al menos el 70%, para asegurar que la prenda tenga la resistencia y comodidad necesarias. Finalmente, el peso total de la mezcla debe ser de 200 kilogramos exactos.\n",
        "\n",
        "El objetivo es minimizar el costo total de la mezcla de fibras, asegurando que cumpla con las especificaciones de calidad y rendimiento requeridas para la fabricación de la ropa deportiva."
      ],
      "metadata": {
        "id": "k1SR_Y-RQJC1"
      }
    },
    {
      "cell_type": "code",
      "source": [
        "# Resuelva en esta celda el ejercicio\n"
      ],
      "metadata": {
        "id": "1Wky-Hp7Qa1P"
      },
      "execution_count": null,
      "outputs": []
    },
    {
      "cell_type": "markdown",
      "source": [
        "## Ejercicio 09\n",
        "\n",
        "Un agricultor desea cultivar tres tipos de cultivos en su terreno: maíz, arroz y soya.\n",
        "\n",
        "Cada cultivo tiene una rentabilidad por hectárea diferente: el maíz genera 350.000 pesos colombianos por hectárea, el arroz 400.000 pesos colombianos por hectárea y la soya 380.000 pesos colombianos por hectárea.\n",
        "\n",
        "El agricultor dispone de 100 hectáreas de terreno, pero desea que al menos el 15% de su terreno esté dedicado al maíz, el 20% al arroz y el 25% a la soya. Además, tiene ciertas restricciones relacionadas con el uso de agua y fertilizantes. El maíz requiere 1,200 metros cúbicos de agua por hectárea, el arroz 1,500 metros cúbicos y la soya 1,000 metros cúbicos. El agricultor tiene un suministro de agua limitado a 120,000 metros cúbicos. En cuanto a los fertilizantes, el maíz consume 500 kg por hectárea, el arroz 400 kg y la soja 300 kg, pero el agricultor tiene disponibles solo 40,000 kg de fertilizantes.\n",
        "\n",
        "El objetivo es maximizar la rentabilidad total del cultivo, asegurando que se cumplan tanto las restricciones de uso del terreno, el agua y los fertilizantes."
      ],
      "metadata": {
        "id": "VlxrpT47QKdX"
      }
    },
    {
      "cell_type": "code",
      "source": [
        "# Resuelva en esta celda el ejercicio\n"
      ],
      "metadata": {
        "id": "lwx5c9ecQeTD"
      },
      "execution_count": null,
      "outputs": []
    }
  ]
}