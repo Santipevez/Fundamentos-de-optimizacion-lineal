{
  "nbformat": 4,
  "nbformat_minor": 0,
  "metadata": {
    "colab": {
      "provenance": [],
      "toc_visible": true,
      "include_colab_link": true
    },
    "kernelspec": {
      "name": "python3",
      "display_name": "Python 3"
    },
    "language_info": {
      "name": "python"
    }
  },
  "cells": [
    {
      "cell_type": "markdown",
      "metadata": {
        "id": "view-in-github",
        "colab_type": "text"
      },
      "source": [
        "<a href=\"https://colab.research.google.com/github/Santipevez/Fundamentos-de-optimizacion-lineal/blob/main/v20250120_Clase_IO_I_problema_de_la_dieta.ipynb\" target=\"_parent\"><img src=\"https://colab.research.google.com/assets/colab-badge.svg\" alt=\"Open In Colab\"/></a>"
      ]
    },
    {
      "cell_type": "markdown",
      "source": [
        "# Clase IO I problema de la dieta v20250120"
      ],
      "metadata": {
        "id": "qjfS68xfwTqu"
      }
    },
    {
      "cell_type": "markdown",
      "source": [
        "## Minimizar costo dieta\n",
        "Una persona desea diseñar una dieta equilibrada con cuatro alimentos disponibles: arroz blanco, pollo deshuesado, lentejas y leche entera.\n",
        "\n",
        "El objetivo es minimizar el costo total de la dieta diaria, cumpliendo con las necesidades nutricionales mínimas de proteína, carbohidratos y grasas.\n",
        "\n",
        "Los precios por unidad son los siguientes: 1 kg de arroz cuesta \\$4.500, 1 kg de pollo cuesta \\$14.000, 1 kg de lentejas cuesta \\$8.000 y 1 litro de leche cuesta \\$4.000.\n",
        "\n",
        "Cada alimento contribuye con una cantidad específica de nutrientes: arroz blanco (100 g): 2.7 g de proteína, 28 g de carbohidratos y 0.3 g de grasa; pollo deshuesado (100 g): 27 g de proteína, 0 g de carbohidratos y 3 g de grasa; lentejas (100 g): 9 g de proteína, 20 g de carbohidratos y 0.4 g de grasa; leche entera (100 ml): 3.3 g de proteína, 4.8 g de carbohidratos y 3.2 g de grasa.  \n",
        "\n",
        "Las necesidades nutricionales mínimas diarias son las siguientes: al menos 50 g de proteína, 200 g de carbohidratos y 20 g de grasa.\n",
        "\n",
        "El problema consiste en determinar la cantidad mínima que se debe consumir de cada alimento para cumplir las restricciones nutricionales al menor costo posible.\n",
        "\n"
      ],
      "metadata": {
        "id": "wopEFslvbgkl"
      }
    },
    {
      "cell_type": "markdown",
      "source": [
        "### solución algebraica"
      ],
      "metadata": {
        "id": "_bMmXoxJuNEp"
      }
    },
    {
      "cell_type": "code",
      "source": [
        "# Importar las librerías que se van a utilizar\n",
        "import cvxpy as cvx\n",
        "\n",
        "# Crear las variables a optimizar\n",
        "# Unidades en gramos\n",
        "q_arroz = cvx.Variable(nonneg = True)\n",
        "q_pollo = cvx.Variable(nonneg = True)\n",
        "q_lentejas = cvx.Variable(nonneg = True)\n",
        "q_leche = cvx.Variable(nonneg = True)\n",
        "\n",
        "# Definir la función objetivo para maximizar el ingreso\n",
        "# Unidades: $/gr*gr + $/gr*gr + $/gr*gr + $/ml*ml\n",
        "obj_dieta = cvx.Minimize(4.5*q_arroz + 14*q_pollo + 8*q_lentejas + 4*q_leche)\n",
        "\n",
        "# Establecer las restricciones\n",
        "rest_dieta = [\n",
        "\n",
        "# Restricción de carbohidratos\n",
        "0.28*q_arroz + 0.0*q_pollo + 0.2*q_lentejas + 0.048*q_leche >= 200,\n",
        "\n",
        " # Restricción de proteína\n",
        " 0.027*q_arroz + 0.27*q_pollo + 0.09*q_lentejas + 0.033*q_leche >= 50,\n",
        "\n",
        " # Restricción de grasas\n",
        " 0.003*q_arroz + 0.03*q_pollo + 0.004*q_lentejas + 0.032 *q_leche >= 20\n",
        "]\n",
        "# Configurar el problema\n",
        "prob_dieta = cvx.Problem(obj_dieta, rest_dieta)\n",
        "\n",
        "# Resolver el problema\n",
        "prob_dieta.solve()\n",
        "\n",
        "# Mostrar el estado de la solución\n",
        "print(\"Estado de la solución:\", prob_dieta.status , \"\\n\")\n",
        "\n",
        "# Mostrar el valor óptimo de la función objetivo\n",
        "print (\"Valor mínimo:\", \"%.2f\"% prob_dieta.value, \"\\n\")\n",
        "\n",
        "# Mostrar los valores óptimos de las variables de decisión\n",
        "print(\"Valores óptimos de las variables de decisión: \\n\")\n",
        "print(\"Unidades de arroz:\", \"%.2f\"% q_arroz.value, \"\\n\")\n",
        "print(\"Unidades de pollo:\", \"%.2f\"% q_pollo.value, \"\\n\")\n",
        "print(\"Unidades de lentejas:\", \"%.2f\"% q_lentejas.value, \"\\n\")\n",
        "print(\"Unidades de leche:\", \"%.2f\"% q_leche.value, \"\\n\")"
      ],
      "metadata": {
        "id": "yQBv34YibnRQ",
        "colab": {
          "base_uri": "https://localhost:8080/"
        },
        "outputId": "fa53f836-533e-4da1-a97f-0ed611da996a"
      },
      "execution_count": null,
      "outputs": [
        {
          "output_type": "stream",
          "name": "stdout",
          "text": [
            "Estado de la solución: optimal \n",
            "\n",
            "Valor mínimo: 5702.84 \n",
            "\n",
            "Valores óptimos de las variables de decisión: \n",
            "\n",
            "Unidades de arroz: 626.89 \n",
            "\n",
            "Unidades de pollo: 60.19 \n",
            "\n",
            "Unidades de lentejas: 0.00 \n",
            "\n",
            "Unidades de leche: 509.80 \n",
            "\n"
          ]
        }
      ]
    },
    {
      "cell_type": "markdown",
      "source": [
        "### solución matricial\n"
      ],
      "metadata": {
        "id": "VuEIfyNQuSFH"
      }
    },
    {
      "cell_type": "code",
      "source": [
        "# Importar las librerías que se van a utilizar\n",
        "import numpy as np\n",
        "import cvxpy as cvx\n",
        "\n",
        "# Crear un arreglo con las variables a optimizar\n",
        "\n",
        "# Crear el arreglo con los coeficientes de costos\n",
        "\n",
        "# Mostrar el arreglo de coeficientes de costos\n",
        "print(\"El arreglo de coeficientes de costos es: \\n\",  , \"\\n\")\n",
        "\n",
        "# Definir la función objetivo\n",
        "\n",
        "\n",
        "# Establecer el arreglo los coeficientes técnicos\n",
        "\n",
        "\n",
        "# Mostrar el arreglo de coeficientes técnicos\n",
        "print(\"El arreglo de coeficientes técnicos es: \\n\",  , \"\\n\")\n",
        "\n",
        "# Crear un arreglo con condiciones límites (restricciones)\n",
        "\n",
        "\n",
        "# Mostrar el arreglo de condiciones límites\n",
        "print(\"El arreglo de condiciones límites es: \\n\",  , \"\\n\")\n",
        "\n",
        "# Establecer las restricciones en forma matricial\n",
        "\n",
        "\n",
        "# Configurar el problema\n",
        "\n",
        "\n",
        "# Obtener el valor óptimo, actualizar el estado del problema\n",
        "#y los valores de todas las variables del problema\n",
        "\n",
        "\n",
        "# Mostrar el estado de la solución matricial\n",
        "print(\"Estado de la solución matricial:\", , \"\\n\")\n",
        "\n",
        "# Mostrar el valor óptimo de la función objetivo matricial\n",
        "print(\"Valor óptimo de la función objetivo matricial:\",  \"%.2f\"% , \"\\n\")\n",
        "\n",
        "# Mostrar los valores óptimos de las variables de decisión matricial\n",
        "print(\"Valores óptimos de las variables de decisión matricial: \\n\")\n"
      ],
      "metadata": {
        "id": "aoGxd4JGszfu"
      },
      "execution_count": null,
      "outputs": []
    },
    {
      "cell_type": "markdown",
      "source": [
        "## Maximizar el valor nutricional\n",
        "Una persona desea diseñar una dieta utilizando cinco alimentos disponibles: avena en hojuelas, huevo, queso campesino, plátano y espinaca.\n",
        "\n",
        "El objetivo es maximizar el valor nutricional total, medido como la suma ponderada de las proteínas, carbohidratos y grasas consumidos, mientras se respetan restricciones de presupuesto y consumo máximo de ciertos alimentos.\n",
        "\n",
        "Los precios por unidad son los siguientes: 1 kg de avena cuesta \\$7.000, 1 huevo cuesta \\$500, 1 kg de queso cuesta \\$18.000, 1 kg de plátano cuesta $3.000 y 1 kg de espinaca cuesta \\$8.000.\n",
        "\n",
        " Cada alimento aporta los siguientes nutrientes: avena en hojuelas (100 g): 13 g de proteína, 67 g de carbohidratos y 7 g de grasa; huevo (unidad de 50 g): 6.5 g de proteína, 0.6 g de carbohidratos y 5 g de grasa; queso campesino (100 g): 22 g de proteína, 2 g de carbohidratos y 25 g de grasa; plátano (100 g): 1.2 g de proteína, 23 g de carbohidratos y 0.2 g de grasa; espinaca (100 g): 2.9 g de proteína, 3.6 g de carbohidratos y 0.4 g de grasa.\n",
        "\n",
        " El presupuesto diario para la dieta no debe superar los $20.000. Además, por razones prácticas, no se puede consumir más de 500 g de avena, 10 huevos, 200 g de queso, 1000 g de plátano ni 500 g de espinaca al día.\n",
        "\n",
        " Determinar las cantidades óptimas de cada alimento que maximicen el valor nutricional total, definido como la suma de proteínas, carbohidratos y grasas, sin superar las restricciones de presupuesto ni los límites de consumo.\n"
      ],
      "metadata": {
        "id": "MMmGOaZTti_J"
      }
    },
    {
      "cell_type": "markdown",
      "source": [
        "### solución algebraica"
      ],
      "metadata": {
        "id": "eAxmTmP9ti_K"
      }
    },
    {
      "cell_type": "code",
      "source": [
        "# Importar las librerías que se van a utilizar\n",
        "import cvxpy as cvx\n",
        "\n",
        "# Crear las variables a optimizar\n",
        "q_avena = cvx.Variable(nonneg = True)\n",
        "q_huevo = cvx.Variable(integer = True)\n",
        "q_queso = cvx.Variable(nonneg = True)\n",
        "q_platano = cvx.Variable(nonneg = True)\n",
        "q_espinaca = cvx.Variable(nonneg = True)\n",
        "\n",
        "# Definir la función objetivo para maximizar el ingreso\n",
        "# Unidades\n",
        "obj_nutricional = cvx.Maximize(\n",
        "    0.13*q_avena + 0.67*q_avena + 0.07*q_avena +\n",
        "    6.5*q_huevo + 0.6*q_huevo + 5*q_huevo +\n",
        "    0.22*q_queso + 0.02*q_queso + 0.25*q_queso +\n",
        "    0.012*q_platano + 0.23*q_platano + 0.002*q_platano +\n",
        "    0.029*q_espinaca + 0.036*q_espinaca + 0.004*q_espinaca\n",
        ")\n",
        "\n",
        "# Establecer las restricciones\n",
        "rest_nutricional = [\n",
        " # Restricción de cantidad avena\n",
        "q_avena <= 500,\n",
        "\n",
        "# Restricción de cantidad de huevo\n",
        " q_huevo <= 10,\n",
        "\n",
        " # Restricción de cantidad de queso\n",
        " q_queso <= 200,\n",
        "\n",
        " # Restricción de cantidad de plátano\n",
        " q_platano <= 1000,\n",
        "\n",
        " # Restricción de cantidad de espinaca\n",
        " q_espinaca <= 500,\n",
        "\n",
        " # Restricción de presupuesto\n",
        " 7*q_avena + 500*q_huevo + 18*q_queso + 3*q_platano + 8*q_espinaca <= 20000,\n",
        "\n",
        " # Restricción de no negatividad\n",
        " q_huevo >= 0\n",
        "]\n",
        "\n",
        "# Configurar el problema\n",
        "prob_nutricional = cvx.Problem(obj_nutricional, rest_nutricional)\n",
        "\n",
        "# Obtener el valor óptimo\n",
        "prob_nutricional.solve()\n",
        "\n",
        "# Mostrar el estado de la solución\n",
        "print(\"Estado de la solución:\", prob_nutricional.status , \"\\n\")\n",
        "\n",
        "# Mostrar el valor óptimo de la función objetivo\n",
        "print (\"Valor máximo:\", \"%.2f\"%  prob_nutricional.value, \"\\n\")\n",
        "\n",
        "# Mostrar los valores óptimos de las variables de decisión\n",
        "print(\"Valores óptimos de las variables de decisión: \\n\")\n",
        "print(\"Gramos de avena:\", \"%.2f\"% q_avena.value, \"\\n\")\n",
        "print(\"Unidades de huevo:\", \"%.2f\"% q_huevo.value, \"\\n\")\n",
        "print(\"Gramos de queso:\", \"%.2f\"% q_queso.value, \"\\n\")\n",
        "print(\"Gramos de plátano:\", \"%.2f\"% q_platano.value, \"\\n\")\n",
        "print(\"Gramos de espinaca:\", \"%.2f\"% q_espinaca.value, \"\\n\")"
      ],
      "metadata": {
        "id": "nsEo7InvtlIJ",
        "colab": {
          "base_uri": "https://localhost:8080/"
        },
        "outputId": "c4a51e04-7675-47f0-db31-319e4a85d726"
      },
      "execution_count": null,
      "outputs": [
        {
          "output_type": "stream",
          "name": "stdout",
          "text": [
            "Estado de la solución: optimal \n",
            "\n",
            "Valor máximo: 932.50 \n",
            "\n",
            "Valores óptimos de las variables de decisión: \n",
            "\n",
            "Gramos de avena: 500.00 \n",
            "\n",
            "Unidades de huevo: 10.00 \n",
            "\n",
            "Gramos de queso: 200.00 \n",
            "\n",
            "Gramos de plátano: 1000.00 \n",
            "\n",
            "Gramos de espinaca: 500.00 \n",
            "\n"
          ]
        }
      ]
    },
    {
      "cell_type": "markdown",
      "source": [
        "### solución matricial\n"
      ],
      "metadata": {
        "id": "5_ViI6Yqti_L"
      }
    },
    {
      "cell_type": "code",
      "source": [
        "# Importar las librerías que se van a utilizar\n",
        "import numpy as np\n",
        "import cvxpy as cvx\n",
        "\n",
        "# Crear un arreglo con las variables a optimizar\n",
        "\n",
        "# Crear el arreglo con los coeficientes de costos\n",
        "\n",
        "# Mostrar el arreglo de coeficientes de costos\n",
        "print(\"El arreglo de coeficientes de costos es: \\n\",  , \"\\n\")\n",
        "\n",
        "# Definir la función objetivo\n",
        "\n",
        "\n",
        "# Establecer el arreglo los coeficientes técnicos\n",
        "\n",
        "\n",
        "# Mostrar el arreglo de coeficientes técnicos\n",
        "print(\"El arreglo de coeficientes técnicos es: \\n\",  , \"\\n\")\n",
        "\n",
        "# Crear un arreglo con condiciones límites (restricciones)\n",
        "\n",
        "\n",
        "# Mostrar el arreglo de condiciones límites\n",
        "print(\"El arreglo de condiciones límites es: \\n\",  , \"\\n\")\n",
        "\n",
        "# Establecer las restricciones en forma matricial\n",
        "\n",
        "\n",
        "# Configurar el problema\n",
        "\n",
        "\n",
        "# Obtener el valor óptimo, actualizar el estado del problema\n",
        "#y los valores de todas las variables del problema\n",
        "\n",
        "\n",
        "# Mostrar el estado de la solución matricial\n",
        "print(\"Estado de la solución matricial:\", , \"\\n\")\n",
        "\n",
        "# Mostrar el valor óptimo de la función objetivo matricial\n",
        "print(\"Valor óptimo de la función objetivo matricial:\",  \"%.2f\"% , \"\\n\")\n",
        "\n",
        "# Mostrar los valores óptimos de las variables de decisión matricial\n",
        "print(\"Valores óptimos de las variables de decisión matricial: \\n\")\n"
      ],
      "metadata": {
        "id": "b8JnZr9vti_L"
      },
      "execution_count": null,
      "outputs": []
    },
    {
      "cell_type": "markdown",
      "source": [
        "## Minimizar el contenido calórico\n",
        "Una persona necesita planificar una dieta saludable utilizando cinco alimentos disponibles: pan integral, pechuga de pavo, yogurt natural, zanahoria y almendras.\n",
        "\n",
        "El objetivo es minimizar el contenido calórico total de la dieta diaria, asegurando que se cumplan los requerimientos mínimos de proteínas, carbohidratos y grasas para una nutrición equilibrada.\n",
        "\n",
        "Los precios por unidad son los siguientes: 1 kg de pan integral cuesta \\$6.000, 1 kg de pechuga de pavo cuesta \\$16.000, 1 kg de yogurt natural cuesta \\$5.000, 1 kg de zanahoria cuesta \\$2.000 y 1 kg de almendras cuesta \\$40.000.\n",
        "\n",
        "Cada alimento tiene el siguiente aporte nutricional por cada 100 g: pan integral: 9 g de proteína, 49 g de carbohidratos, 3.4 g de grasa, 250 calorías; pechuga de pavo: 25 g de proteína, 0 g de carbohidratos, 1.2 g de grasa, 110 calorías; yogurt natural: 4 g de proteína, 5 g de carbohidratos, 3 g de grasa, 60 calorías; zanahoria: 0.9 g de proteína, 10 g de carbohidratos, 0.2 g de grasa, 41 calorías; almendras: 21 g de proteína, 22 g de carbohidratos, 50 g de grasa, 579 calorías.\n",
        "\n",
        "Los requerimientos nutricionales diarios son los siguientes: al menos 50 g de proteína, 150 g de carbohidratos y 20 g de grasa.\n",
        "\n",
        "Determinar las cantidades a consumir de cada alimento que reduzcan al máximo el contenido calórico total, cumpliendo con los requerimientos nutricionales establecidos."
      ],
      "metadata": {
        "id": "JOm01JAPtlII"
      }
    },
    {
      "cell_type": "markdown",
      "source": [
        "### solución algebraica"
      ],
      "metadata": {
        "id": "o0P748yXtlIJ"
      }
    },
    {
      "cell_type": "code",
      "source": [
        "# Importar las librerías que se van a utilizar\n",
        "\n",
        "\n",
        "# Crear las variables a optimizar\n",
        "\n",
        "\n",
        "# Definir la función objetivo para maximizar el ingreso\n",
        "# Unidades\n",
        "\n",
        "\n",
        "# Establecer las restricciones\n",
        "\n",
        "# Configurar el problema\n",
        "\n",
        "\n",
        "# Obtener el valor óptimo\n",
        "\n",
        "\n",
        "# Mostrar el estado de la solución\n",
        "print(\"Estado de la solución:\",  , \"\\n\")\n",
        "\n",
        "# Mostrar el valor óptimo de la función objetivo\n",
        "print (\"Valor máximo:\", \"%.2f\"% , \"\\n\")\n",
        "\n",
        "# Mostrar los valores óptimos de las variables de decisión\n"
      ],
      "metadata": {
        "id": "qh-6_tkYti_K"
      },
      "execution_count": null,
      "outputs": []
    },
    {
      "cell_type": "markdown",
      "source": [
        "### solución matricial\n"
      ],
      "metadata": {
        "id": "4c-3GeprtlIK"
      }
    },
    {
      "cell_type": "code",
      "source": [
        "# Importar las librerías que se van a utilizar\n",
        "import numpy as np\n",
        "import cvxpy as cvx\n",
        "\n",
        "# Crear un arreglo con las variables a optimizar\n",
        "\n",
        "# Crear el arreglo con los coeficientes de costos\n",
        "\n",
        "# Mostrar el arreglo de coeficientes de costos\n",
        "print(\"El arreglo de coeficientes de costos es: \\n\",  , \"\\n\")\n",
        "\n",
        "# Definir la función objetivo\n",
        "\n",
        "\n",
        "# Establecer el arreglo los coeficientes técnicos\n",
        "\n",
        "\n",
        "# Mostrar el arreglo de coeficientes técnicos\n",
        "print(\"El arreglo de coeficientes técnicos es: \\n\",  , \"\\n\")\n",
        "\n",
        "# Crear un arreglo con condiciones límites (restricciones)\n",
        "\n",
        "\n",
        "# Mostrar el arreglo de condiciones límites\n",
        "print(\"El arreglo de condiciones límites es: \\n\",  , \"\\n\")\n",
        "\n",
        "# Establecer las restricciones en forma matricial\n",
        "\n",
        "\n",
        "# Configurar el problema\n",
        "\n",
        "\n",
        "# Obtener el valor óptimo, actualizar el estado del problema\n",
        "#y los valores de todas las variables del problema\n",
        "\n",
        "\n",
        "# Mostrar el estado de la solución matricial\n",
        "print(\"Estado de la solución matricial:\", , \"\\n\")\n",
        "\n",
        "# Mostrar el valor óptimo de la función objetivo matricial\n",
        "print(\"Valor óptimo de la función objetivo matricial:\",  \"%.2f\"% , \"\\n\")\n",
        "\n",
        "# Mostrar los valores óptimos de las variables de decisión matricial\n",
        "print(\"Valores óptimos de las variables de decisión matricial: \\n\")\n"
      ],
      "metadata": {
        "id": "LyJN1drEzPgQ"
      },
      "execution_count": null,
      "outputs": []
    },
    {
      "cell_type": "markdown",
      "source": [
        "## Minimizar tiempo de preparación\n",
        "Una persona con un horario ocupado desea planificar una dieta diaria utilizando cuatro alimentos disponibles: arroz integral, filete de res, ensalada de verduras y yogurt griego.\n",
        "\n",
        "El objetivo es minimizar el tiempo total de preparación de la dieta, cumpliendo con los requerimientos nutricionales mínimos de proteínas, carbohidratos y grasas.\n",
        "\n",
        "\n",
        "Los precios por unidad son los siguientes: 1 kg de arroz integral cuesta \\$7.000, 1 kg de filete de res cuesta \\$20.000, 1 kg de ensalada de verduras cuesta \\$5.000 y 1 kg de yogurt griego cuesta \\$8.000.\n",
        "\n",
        " Cada alimento requiere un tiempo de preparación promedio: arroz integral: 30 minutos/100gr; filete de res: 25 minutos/100gr; ensalada de verduras: 10 minutos/100gr; yogurt griego: 0 minutos (listo para consumir).\n",
        "\n",
        "Los valores nutricionales de cada alimento por cada 100 g son los siguientes: arroz integral: 2.5 g de proteína, 23 g de carbohidratos, 0.9 g de grasa; filete de res: 26 g de proteína, 0 g de carbohidratos, 15 g de grasa; ensalada de verduras: 1 g de proteína, 5 g de carbohidratos, 0.2 g de grasa; yogurt griego: 10 g de proteína, 3.6 g de carbohidratos, 5 g de grasa.\n",
        "\n",
        "Los requerimientos nutricionales mínimos diarios son los siguientes: al menos 50 g de proteína, 150 g de carbohidratos y 20 g de grasa.\n",
        "\n",
        "Determinar las cantidades óptimas de cada alimento que minimicen el tiempo total de preparación, cumpliendo con los requerimientos nutricionales establecidos y respetando el presupuesto máximo de \\$25.000 por día.\n",
        "\n"
      ],
      "metadata": {
        "id": "UTw3ilK4y-Fo"
      }
    },
    {
      "cell_type": "markdown",
      "source": [
        "### solución algebraica"
      ],
      "metadata": {
        "id": "XPwKpTUIy-Fp"
      }
    },
    {
      "cell_type": "code",
      "source": [
        "# Importar las librerías que se van a utilizar\n",
        "\n",
        "\n",
        "# Crear las variables a optimizar\n",
        "\n",
        "\n",
        "# Definir la función objetivo para maximizar el ingreso\n",
        "# Unidades\n",
        "\n",
        "\n",
        "# Establecer las restricciones\n",
        "\n",
        "# Configurar el problema\n",
        "\n",
        "\n",
        "# Obtener el valor óptimo\n",
        "\n",
        "\n",
        "# Mostrar el estado de la solución\n",
        "print(\"Estado de la solución:\",  , \"\\n\")\n",
        "\n",
        "# Mostrar el valor óptimo de la función objetivo\n",
        "print (\"Valor máximo:\", \"%.2f\"% , \"\\n\")\n",
        "\n",
        "# Mostrar los valores óptimos de las variables de decisión\n"
      ],
      "metadata": {
        "id": "rIZ6tN02y-Fp"
      },
      "execution_count": null,
      "outputs": []
    },
    {
      "cell_type": "markdown",
      "source": [
        "### solución matricial\n"
      ],
      "metadata": {
        "id": "EtWDRhqjy-Fq"
      }
    },
    {
      "cell_type": "code",
      "source": [
        "# Importar las librerías que se van a utilizar\n",
        "import numpy as np\n",
        "import cvxpy as cvx\n",
        "\n",
        "# Crear un arreglo con las variables a optimizar\n",
        "\n",
        "# Crear el arreglo con los coeficientes de costos\n",
        "\n",
        "# Mostrar el arreglo de coeficientes de costos\n",
        "print(\"El arreglo de coeficientes de costos es: \\n\",  , \"\\n\")\n",
        "\n",
        "# Definir la función objetivo\n",
        "\n",
        "\n",
        "# Establecer el arreglo los coeficientes técnicos\n",
        "\n",
        "\n",
        "# Mostrar el arreglo de coeficientes técnicos\n",
        "print(\"El arreglo de coeficientes técnicos es: \\n\",  , \"\\n\")\n",
        "\n",
        "# Crear un arreglo con condiciones límites (restricciones)\n",
        "\n",
        "\n",
        "# Mostrar el arreglo de condiciones límites\n",
        "print(\"El arreglo de condiciones límites es: \\n\",  , \"\\n\")\n",
        "\n",
        "# Establecer las restricciones en forma matricial\n",
        "\n",
        "\n",
        "# Configurar el problema\n",
        "\n",
        "\n",
        "# Obtener el valor óptimo, actualizar el estado del problema\n",
        "#y los valores de todas las variables del problema\n",
        "\n",
        "\n",
        "# Mostrar el estado de la solución matricial\n",
        "print(\"Estado de la solución matricial:\", , \"\\n\")\n",
        "\n",
        "# Mostrar el valor óptimo de la función objetivo matricial\n",
        "print(\"Valor óptimo de la función objetivo matricial:\",  \"%.2f\"% , \"\\n\")\n",
        "\n",
        "# Mostrar los valores óptimos de las variables de decisión matricial\n",
        "print(\"Valores óptimos de las variables de decisión matricial: \\n\")\n"
      ],
      "metadata": {
        "id": "eXaP23CNy-Fr"
      },
      "execution_count": null,
      "outputs": []
    },
    {
      "cell_type": "markdown",
      "source": [
        "## Optimizar el balance nutricional\n",
        "Una persona desea planificar una dieta diaria utilizando cinco alimentos: quinoa, salmón, brócoli, batata y semillas de chía.\n",
        "\n",
        "El objetivo es optimizar el balance nutricional, entendiendo esto como minimizar la desviación total respecto a las proporciones ideales de macronutrientes recomendadas, que son 50 % de carbohidratos, 30 % de proteínas y 20 % de grasas en términos de aporte calórico.\n",
        "\n",
        "Los precios por unidad son los siguientes: 1 kg de quinoa cuesta \\$15.000, 1 kg de salmón cuesta \\$45.000, 1 kg de brócoli cuesta \\$6.000, 1 kg de batata cuesta \\$5.000 y 1 kg de semillas de chía cuesta \\$40.000.\n",
        "\n",
        "Cada alimento tiene el siguiente aporte nutricional por cada 100 g: quinoa: 4 g de proteína, 21 g de carbohidratos, 2 g de grasa, 120 calorías; salmón: 25 g de proteína, 0 g de carbohidratos, 13 g de grasa, 208 calorías; brócoli: 2.8 g de proteína, 6.6 g de carbohidratos, 0.4 g de grasa, 35 calorías; batata: 1.6 g de proteína, 20 g de carbohidratos, 0.1 g de grasa, 86 calorías; semillas de chía: 17 g de proteína, 42 g de carbohidratos, 31 g de grasa, 486 calorías.\n",
        "\n",
        "El consumo total diario debe proporcionar al menos 2000 calorías para cubrir las necesidades energéticas de la persona.\n",
        "\n",
        "Además, el costo total de los alimentos no debe exceder los \\$30.000. Determinar las cantidades óptimas de cada alimento para minimizar la desviación respecto a las proporciones ideales de carbohidratos, proteínas y grasas en las calorías consumidas, respetando las restricciones de costo y calorías mínimas.\n"
      ],
      "metadata": {
        "id": "M36Defbsy_id"
      }
    },
    {
      "cell_type": "markdown",
      "source": [
        "### solución algebraica"
      ],
      "metadata": {
        "id": "j0viXHaKy_id"
      }
    },
    {
      "cell_type": "code",
      "source": [
        "# Importar las librerías que se van a utilizar\n",
        "import cvxpy as cvx\n",
        "\n",
        "# Crear las variables a optimizar\n",
        "q_quinoa = cvx.Variable(nonneg = True)\n",
        "q_salmon = cvx.Variable(nonneg = True)\n",
        "q_brocoli = cvx.Variable(nonneg = True)\n",
        "q_batata = cvx.Variable(nonneg = True)\n",
        "q_semillas = cvx.Variable(nonneg = True)\n",
        "\n",
        "# Aporte calórico total\n",
        "aporte = 1.2*q_quinoa + 2.08*q_salmon + 0.35*q_brocoli + 0.86*q_batata + 4.86*q_semillas\n",
        "\n",
        "# Definir la función objetivo para maximizar el ingreso\n",
        "# Unidades\n",
        "obj_balance = cvx.Minimize(\n",
        "    ((0.21*q_quinoa + 0*q_salmon + 0.066*q_brocoli +0.20*q_batata + 0.42*q_semillas) -  0.5*aporte) +\n",
        "     ((0.04*q_quinoa + 0.25*q_salmon + 0.028*q_brocoli + 0.016*q_batata + 0.17*q_semillas ) - 0.3*(aporte)) +\n",
        "      ((0.02*q_quinoa + 0.13*q_salmon + 0.004*q_brocoli + 0.001*q_batata + 0.31*q_semillas ) - 0.2*aporte))\n",
        "\n",
        "# Establecer las restricciones\n",
        "rest_balance =[\n",
        "# Restricción presupuestal\n",
        "15*q_quinoa + 45*q_salmon + 6*q_brocoli + 5*q_batata + 40*q_semillas <= 30000,\n",
        "\n",
        "# Restricción calorías\n",
        "1.2*q_quinoa + 2.08*q_salmon + 0.35*q_brocoli +0.86*q_batata + 4.86*q_semillas >= 2000\n",
        "]\n",
        "\n",
        "# Configurar el problema\n",
        "prob_balance = cvx.Problem(obj_balance, rest_balance)\n",
        "\n",
        "# Obtener el valor óptimo\n",
        "prob_balance.solve()\n",
        "\n",
        "# Mostrar el estado de la solución\n",
        "print(\"Estado de la solución:\", prob_balance.status , \"\\n\")\n",
        "\n",
        "# Mostrar el valor óptimo de la función objetivo\n",
        "print (\"Valor máximo:\", \"%.2f\"% prob_balance.value, \"\\n\")\n",
        "\n",
        "# Mostrar los valores óptimos de las variables de decisión\n",
        "print(\"Valores óptimos de las variables de decisión: \\n\")\n",
        "print(\"Gramos de quinoa:\", \"%.2f\"% q_quinoa.value, \"\\n\")\n",
        "print(\"Gramos de salmón:\", \"%.2f\"% q_salmon.value, \"\\n\")\n",
        "print(\"Gramos de brócoli:\", \"%.2f\"% q_brocoli.value, \"\\n\")\n",
        "print(\"Gramos de batata:\", \"%.2f\"% q_batata.value, \"\\n\")\n",
        "print(\"Gramos de semillas de chía:\", \"%.2f\"% q_semillas.value, \"\\n\")"
      ],
      "metadata": {
        "id": "RpRnl6iky_id",
        "colab": {
          "base_uri": "https://localhost:8080/"
        },
        "outputId": "3db0ac51-cdf0-42cf-8594-2e74aeee2424"
      },
      "execution_count": null,
      "outputs": [
        {
          "output_type": "stream",
          "name": "stdout",
          "text": [
            "Estado de la solución: optimal \n",
            "\n",
            "Valor máximo: -3858.00 \n",
            "\n",
            "Valores óptimos de las variables de decisión: \n",
            "\n",
            "Gramos de quinoa: 0.00 \n",
            "\n",
            "Gramos de salmón: 0.00 \n",
            "\n",
            "Gramos de brócoli: 0.00 \n",
            "\n",
            "Gramos de batata: 6000.00 \n",
            "\n",
            "Gramos de semillas de chía: 0.00 \n",
            "\n"
          ]
        }
      ]
    },
    {
      "cell_type": "markdown",
      "source": [
        "### solución matricial\n"
      ],
      "metadata": {
        "id": "tyL8aESDy_id"
      }
    },
    {
      "cell_type": "code",
      "source": [
        "# Importar las librerías que se van a utilizar\n",
        "import numpy as np\n",
        "import cvxpy as cvx\n",
        "\n",
        "# Crear un arreglo con las variables a optimizar\n",
        "\n",
        "# Crear el arreglo con los coeficientes de costos\n",
        "\n",
        "# Mostrar el arreglo de coeficientes de costos\n",
        "print(\"El arreglo de coeficientes de costos es: \\n\",  , \"\\n\")\n",
        "\n",
        "# Definir la función objetivo\n",
        "\n",
        "\n",
        "# Establecer el arreglo los coeficientes técnicos\n",
        "\n",
        "\n",
        "# Mostrar el arreglo de coeficientes técnicos\n",
        "print(\"El arreglo de coeficientes técnicos es: \\n\",  , \"\\n\")\n",
        "\n",
        "# Crear un arreglo con condiciones límites (restricciones)\n",
        "\n",
        "\n",
        "# Mostrar el arreglo de condiciones límites\n",
        "print(\"El arreglo de condiciones límites es: \\n\",  , \"\\n\")\n",
        "\n",
        "# Establecer las restricciones en forma matricial\n",
        "\n",
        "\n",
        "# Configurar el problema\n",
        "\n",
        "\n",
        "# Obtener el valor óptimo, actualizar el estado del problema\n",
        "#y los valores de todas las variables del problema\n",
        "\n",
        "\n",
        "# Mostrar el estado de la solución matricial\n",
        "print(\"Estado de la solución matricial:\", , \"\\n\")\n",
        "\n",
        "# Mostrar el valor óptimo de la función objetivo matricial\n",
        "print(\"Valor óptimo de la función objetivo matricial:\",  \"%.2f\"% , \"\\n\")\n",
        "\n",
        "# Mostrar los valores óptimos de las variables de decisión matricial\n",
        "print(\"Valores óptimos de las variables de decisión matricial: \\n\")\n"
      ],
      "metadata": {
        "id": "P-AfTerdy_ie"
      },
      "execution_count": null,
      "outputs": []
    }
  ]
}